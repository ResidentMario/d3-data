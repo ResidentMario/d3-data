{
 "cells": [
  {
   "cell_type": "markdown",
   "metadata": {},
   "source": [
    "# Generating Shapes\n",
    "\n",
    "You can build a rect yourself, but for more complex shapes you benefit from having generators which handle the hard parts for you.\n",
    "\n",
    "This module is also the API design basis for the geo stuff, so it's good to understand this stuff before trying to jump into geo modules."
   ]
  },
  {
   "cell_type": "code",
   "execution_count": 2,
   "metadata": {
    "collapsed": false
   },
   "outputs": [],
   "source": [
    "%load_ext py_d3"
   ]
  },
  {
   "cell_type": "markdown",
   "metadata": {},
   "source": [
    "## Arcs\n",
    "\n",
    "Arcs are pie-like thingies. As with histograms, there's a `d3.arc` method which emits a modifiable factory constructor. Here's a basic build:"
   ]
  },
  {
   "cell_type": "code",
   "execution_count": 5,
   "metadata": {
    "collapsed": false
   },
   "outputs": [
    {
     "data": {
      "text/html": [
       "\n",
       "<script>\n",
       "requirejs.config({\n",
       "    paths: {\n",
       "        d3: \"//cdnjs.cloudflare.com/ajax/libs/d3/4.4.4/d3\"\n",
       "    }\n",
       "});\n",
       "\n",
       "require(['d3'], function(d3) {\n",
       "    window.d3 = d3;\n",
       "});\n",
       "</script>\n",
       "<script>\n",
       "_select = d3.select;\n",
       "\n",
       "d3.select2 = function(selection) {\n",
       "    return _select(\"#d3-cell-2\").select(selection);\n",
       "}\n",
       "d3.selectAll2 = function(selection) {\n",
       "    return _select(\"#d3-cell-2\").selectAll(selection);\n",
       "}\n",
       "</script>\n",
       "<g id=\"d3-cell-2\">\n",
       "\n",
       "<script>\n",
       "let arc = d3.arc()({\n",
       "  innerRadius: 0,\n",
       "  outerRadius: 100,\n",
       "  startAngle: 0,\n",
       "  endAngle: Math.PI / 2\n",
       "});\n",
       "console.log(arc);\n",
       "</script>\n",
       "</g>"
      ],
      "text/plain": [
       "<IPython.core.display.HTML object>"
      ]
     },
     "metadata": {},
     "output_type": "display_data"
    }
   ],
   "source": [
    "%%d3 4.4.4\n",
    "\n",
    "<script>\n",
    "let arc = d3.arc()({\n",
    "  innerRadius: 0,\n",
    "  outerRadius: 100,\n",
    "  startAngle: 0,\n",
    "  endAngle: Math.PI / 2\n",
    "});\n",
    "console.log(arc); // emits M6.123233995736766e-15,-100A100,100,0,0,1,100,0L0,0Z\n",
    "</script>"
   ]
  },
  {
   "cell_type": "markdown",
   "metadata": {},
   "source": [
    "Ok, let's add that to an SVG. Notice that the arc is generated as a path SVG element with a datum, which we can attach to the display thusly."
   ]
  },
  {
   "cell_type": "code",
   "execution_count": 11,
   "metadata": {
    "collapsed": false
   },
   "outputs": [
    {
     "data": {
      "text/html": [
       "\n",
       "<script>\n",
       "requirejs.config({\n",
       "    paths: {\n",
       "        d3: \"//cdnjs.cloudflare.com/ajax/libs/d3/4.4.4/d3\"\n",
       "    }\n",
       "});\n",
       "\n",
       "require(['d3'], function(d3) {\n",
       "    window.d3 = d3;\n",
       "});\n",
       "</script>\n",
       "<script>\n",
       "_select = d3.select;\n",
       "\n",
       "d3.select8 = function(selection) {\n",
       "    return _select(\"#d3-cell-8\").select(selection);\n",
       "}\n",
       "d3.selectAll8 = function(selection) {\n",
       "    return _select(\"#d3-cell-8\").selectAll(selection);\n",
       "}\n",
       "</script>\n",
       "<g id=\"d3-cell-8\">\n",
       "\n",
       "<svg style=\"width:200px; height:200px;\"></svg>\n",
       "\n",
       "<script>\n",
       "let arc = d3.arc()({\n",
       "  innerRadius: 0,\n",
       "  outerRadius: 100,\n",
       "  startAngle: 0,\n",
       "  endAngle: Math.PI / 2\n",
       "});\n",
       "\n",
       "d3.select8(\"svg\").append(\"path\").attr(\"d\", arc);\n",
       "</script>\n",
       "</g>"
      ],
      "text/plain": [
       "<IPython.core.display.HTML object>"
      ]
     },
     "metadata": {},
     "output_type": "display_data"
    }
   ],
   "source": [
    "%%d3 4.4.4\n",
    "\n",
    "<svg style=\"width:200px; height:200px;\"></svg>\n",
    "\n",
    "<script>\n",
    "let arc = d3.arc()({\n",
    "  innerRadius: 0,\n",
    "  outerRadius: 100,\n",
    "  startAngle: 0,\n",
    "  endAngle: Math.PI / 2\n",
    "});\n",
    "\n",
    "d3.select(\"svg\").append(\"path\").attr(\"d\", arc);\n",
    "</script>"
   ]
  },
  {
   "cell_type": "markdown",
   "metadata": {},
   "source": [
    "The default coordinate is (0,0), so the arc is above the display here :) You have to adjust it into place yourself."
   ]
  },
  {
   "cell_type": "code",
   "execution_count": 13,
   "metadata": {
    "collapsed": false
   },
   "outputs": [
    {
     "data": {
      "text/html": [
       "\n",
       "<script>\n",
       "requirejs.config({\n",
       "    paths: {\n",
       "        d3: \"//cdnjs.cloudflare.com/ajax/libs/d3/4.4.4/d3\"\n",
       "    }\n",
       "});\n",
       "\n",
       "require(['d3'], function(d3) {\n",
       "    window.d3 = d3;\n",
       "});\n",
       "</script>\n",
       "<script>\n",
       "_select = d3.select;\n",
       "\n",
       "d3.select10 = function(selection) {\n",
       "    return _select(\"#d3-cell-10\").select(selection);\n",
       "}\n",
       "d3.selectAll10 = function(selection) {\n",
       "    return _select(\"#d3-cell-10\").selectAll(selection);\n",
       "}\n",
       "</script>\n",
       "<g id=\"d3-cell-10\">\n",
       "\n",
       "<svg style=\"width:200px; height:200px;\"></svg>\n",
       "\n",
       "<script>\n",
       "let arc = d3.arc()({\n",
       "  innerRadius: 0,\n",
       "  outerRadius: 100,\n",
       "  startAngle: 0,\n",
       "  endAngle: Math.PI / 2\n",
       "});\n",
       "\n",
       "d3.select10(\"svg\").append(\"path\").attr(\"d\", arc).attr(\"transform\", \"translate(100, 100)\")\n",
       "</script>\n",
       "</g>"
      ],
      "text/plain": [
       "<IPython.core.display.HTML object>"
      ]
     },
     "metadata": {},
     "output_type": "display_data"
    }
   ],
   "source": [
    "%%d3 4.4.4\n",
    "\n",
    "<svg style=\"width:200px; height:200px;\"></svg>\n",
    "\n",
    "<script>\n",
    "let arc = d3.arc()({\n",
    "  innerRadius: 0,\n",
    "  outerRadius: 100,\n",
    "  startAngle: 0,\n",
    "  endAngle: Math.PI / 2\n",
    "});\n",
    "\n",
    "d3.select(\"svg\").append(\"path\").attr(\"d\", arc).attr(\"transform\", \"translate(100, 100)\")\n",
    "</script>"
   ]
  },
  {
   "cell_type": "markdown",
   "metadata": {},
   "source": [
    "Great! We can play around with the options a bit, but they're all obvious."
   ]
  },
  {
   "cell_type": "code",
   "execution_count": 18,
   "metadata": {
    "collapsed": false
   },
   "outputs": [
    {
     "data": {
      "text/html": [
       "\n",
       "<script>\n",
       "requirejs.config({\n",
       "    paths: {\n",
       "        d3: \"//cdnjs.cloudflare.com/ajax/libs/d3/4.4.4/d3\"\n",
       "    }\n",
       "});\n",
       "\n",
       "require(['d3'], function(d3) {\n",
       "    window.d3 = d3;\n",
       "});\n",
       "</script>\n",
       "<script>\n",
       "_select = d3.select;\n",
       "\n",
       "d3.select15 = function(selection) {\n",
       "    return _select(\"#d3-cell-15\").select(selection);\n",
       "}\n",
       "d3.selectAll15 = function(selection) {\n",
       "    return _select(\"#d3-cell-15\").selectAll(selection);\n",
       "}\n",
       "</script>\n",
       "<g id=\"d3-cell-15\">\n",
       "\n",
       "<svg style=\"width:200px; height:200px;\"></svg>\n",
       "\n",
       "<script>\n",
       "let arc = d3.arc()({\n",
       "  innerRadius: 75,\n",
       "  outerRadius: 100,\n",
       "  startAngle: Math.PI/4,\n",
       "  endAngle: Math.PI*2\n",
       "});\n",
       "\n",
       "d3.select15(\"svg\").append(\"path\").attr(\"d\", arc).attr(\"transform\", \"translate(100, 100)\")\n",
       "</script>\n",
       "</g>"
      ],
      "text/plain": [
       "<IPython.core.display.HTML object>"
      ]
     },
     "metadata": {},
     "output_type": "display_data"
    }
   ],
   "source": [
    "%%d3 4.4.4\n",
    "\n",
    "<svg style=\"width:200px; height:200px;\"></svg>\n",
    "\n",
    "<script>\n",
    "let arc = d3.arc()({\n",
    "  innerRadius: 75,\n",
    "  outerRadius: 100,\n",
    "  startAngle: Math.PI/4,\n",
    "  endAngle: Math.PI*2\n",
    "});\n",
    "\n",
    "d3.select(\"svg\").append(\"path\").attr(\"d\", arc).attr(\"transform\", \"translate(100, 100)\")\n",
    "</script>"
   ]
  },
  {
   "cell_type": "markdown",
   "metadata": {},
   "source": [
    "All right, let's look at some other arguments. First of all, `centroid` computes the arc center, for ease of labeling."
   ]
  },
  {
   "cell_type": "code",
   "execution_count": 30,
   "metadata": {
    "collapsed": false
   },
   "outputs": [
    {
     "data": {
      "text/html": [
       "\n",
       "<script>\n",
       "requirejs.config({\n",
       "    paths: {\n",
       "        d3: \"//cdnjs.cloudflare.com/ajax/libs/d3/4.4.4/d3\"\n",
       "    }\n",
       "});\n",
       "\n",
       "require(['d3'], function(d3) {\n",
       "    window.d3 = d3;\n",
       "});\n",
       "</script>\n",
       "<script>\n",
       "_select = d3.select;\n",
       "\n",
       "d3.select27 = function(selection) {\n",
       "    return _select(\"#d3-cell-27\").select(selection);\n",
       "}\n",
       "d3.selectAll27 = function(selection) {\n",
       "    return _select(\"#d3-cell-27\").selectAll(selection);\n",
       "}\n",
       "</script>\n",
       "<g id=\"d3-cell-27\">\n",
       "\n",
       "<svg style=\"width:200px; height:200px;\"></svg>\n",
       "\n",
       "<script>\n",
       "let arc_segment_dict = {\n",
       "  innerRadius: 60,\n",
       "  outerRadius: 100,\n",
       "  startAngle: Math.PI/4,\n",
       "  endAngle: Math.PI*1\n",
       "}\n",
       "\n",
       "let segment = d3.arc()(arc_segment_dict);\n",
       "let centroid = d3.arc().centroid(arc_segment_dict);\n",
       "console.log(centroid);\n",
       "\n",
       "d3.select27(\"svg\").append(\"path\").attr(\"d\", segment).attr(\"transform\", \"translate(100, 100)\").attr(\"fill\", \"steelblue\");\n",
       "d3.select27(\"svg\").append(\"circle\")\n",
       "    .attr(\"r\", \"5\").attr(\"cx\", centroid[0]).attr(\"cy\", centroid[1])\n",
       "    .attr(\"transform\", \"translate(100, 100)\").attr(\"fill\", \"white\");\n",
       "</script>\n",
       "</g>"
      ],
      "text/plain": [
       "<IPython.core.display.HTML object>"
      ]
     },
     "metadata": {},
     "output_type": "display_data"
    }
   ],
   "source": [
    "%%d3 4.4.4\n",
    "\n",
    "<svg style=\"width:200px; height:200px;\"></svg>\n",
    "\n",
    "<script>\n",
    "let arc_segment_dict = {\n",
    "  innerRadius: 60,\n",
    "  outerRadius: 100,\n",
    "  startAngle: Math.PI/4,\n",
    "  endAngle: Math.PI*1\n",
    "}\n",
    "\n",
    "let segment = d3.arc()(arc_segment_dict);\n",
    "let centroid = d3.arc().centroid(arc_segment_dict);\n",
    "console.log(centroid);\n",
    "\n",
    "d3.select(\"svg\").append(\"path\").attr(\"d\", segment).attr(\"transform\", \"translate(100, 100)\").attr(\"fill\", \"steelblue\");\n",
    "d3.select(\"svg\").append(\"circle\")\n",
    "    .attr(\"r\", \"5\").attr(\"cx\", centroid[0]).attr(\"cy\", centroid[1])\n",
    "    .attr(\"transform\", \"translate(100, 100)\").attr(\"fill\", \"white\");\n",
    "</script>"
   ]
  },
  {
   "cell_type": "markdown",
   "metadata": {},
   "source": [
    "The attributes in the init can also be specified before generation via argument. Let's use them here."
   ]
  },
  {
   "cell_type": "code",
   "execution_count": 49,
   "metadata": {
    "collapsed": false
   },
   "outputs": [
    {
     "data": {
      "text/html": [
       "\n",
       "<script>\n",
       "requirejs.config({\n",
       "    paths: {\n",
       "        d3: \"//cdnjs.cloudflare.com/ajax/libs/d3/4.4.4/d3\"\n",
       "    }\n",
       "});\n",
       "\n",
       "require(['d3'], function(d3) {\n",
       "    window.d3 = d3;\n",
       "});\n",
       "</script>\n",
       "<script>\n",
       "_select = d3.select;\n",
       "\n",
       "d3.select46 = function(selection) {\n",
       "    return _select(\"#d3-cell-46\").select(selection);\n",
       "}\n",
       "d3.selectAll46 = function(selection) {\n",
       "    return _select(\"#d3-cell-46\").selectAll(selection);\n",
       "}\n",
       "</script>\n",
       "<g id=\"d3-cell-46\">\n",
       "\n",
       "<svg style=\"width:200px; height:200px;\"></svg>\n",
       "\n",
       "<script>\n",
       "// define the data\n",
       "let start_angles = [0, 60, 75, 80, 120, 200, 270, 360];\n",
       "let end_angles = start_angles.slice(-1).concat(start_angles.slice(0, -1));\n",
       "let colors = ['steelblue', 'green', 'gray', 'brown', 'light red', 'purple', 'yellow', 'pink']\n",
       "\n",
       "\n",
       "let arc_segment_dict = {\n",
       "    innerRadius: 60,\n",
       "    outerRadius: 100,\n",
       "    startAngle: Math.PI/4,\n",
       "    endAngle: Math.PI*1,\n",
       "    cornerRadius: 100\n",
       "}\n",
       "\n",
       "for(let i=0; i < start_angles.length; i++) {\n",
       "    stuff = arc_segment_dict;\n",
       "    stuff['startAngle'] = start_angles[i] / 180 * Math.PI;\n",
       "    stuff['endAngle'] = end_angles[i] / 180 * Math.PI;\n",
       "    let segment = d3.arc()(stuff);\n",
       "    let color = colors[i];\n",
       "    d3.select46(\"svg\").append(\"path\")\n",
       "        .attr(\"d\", segment).attr(\"transform\", \"translate(100, 100)\").attr(\"fill\", color);\n",
       "}\n",
       "</script>\n",
       "</g>"
      ],
      "text/plain": [
       "<IPython.core.display.HTML object>"
      ]
     },
     "metadata": {},
     "output_type": "display_data"
    }
   ],
   "source": [
    "%%d3 4.4.4\n",
    "\n",
    "<svg style=\"width:200px; height:200px;\"></svg>\n",
    "\n",
    "<script>\n",
    "// define the data\n",
    "let start_angles = [0, 60, 75, 80, 120, 200, 270, 360];\n",
    "let end_angles = start_angles.slice(-1).concat(start_angles.slice(0, -1));\n",
    "let colors = ['steelblue', 'green', 'gray', 'brown', 'light red', 'purple', 'yellow', 'pink']\n",
    "\n",
    "\n",
    "let arc_segment_dict = {\n",
    "    innerRadius: 60,\n",
    "    outerRadius: 100,\n",
    "    startAngle: Math.PI/4,\n",
    "    endAngle: Math.PI*1,\n",
    "}\n",
    "\n",
    "for(let i=0; i < start_angles.length; i++) {\n",
    "    stuff = arc_segment_dict;\n",
    "    stuff['startAngle'] = start_angles[i] / 180 * Math.PI;\n",
    "    stuff['endAngle'] = end_angles[i] / 180 * Math.PI;\n",
    "    let segment = d3.arc()(stuff);\n",
    "    let color = colors[i];\n",
    "    d3.select(\"svg\").append(\"path\")\n",
    "        .attr(\"d\", segment).attr(\"transform\", \"translate(100, 100)\").attr(\"fill\", color);\n",
    "}\n",
    "</script>"
   ]
  },
  {
   "cell_type": "markdown",
   "metadata": {},
   "source": [
    "## Pie\n",
    "\n",
    "The pie generators don't produce a shape, they produce something that can be fed to `arc`."
   ]
  },
  {
   "cell_type": "code",
   "execution_count": 52,
   "metadata": {
    "collapsed": false
   },
   "outputs": [
    {
     "data": {
      "text/html": [
       "\n",
       "<script>\n",
       "requirejs.config({\n",
       "    paths: {\n",
       "        d3: \"//cdnjs.cloudflare.com/ajax/libs/d3/4.4.4/d3\"\n",
       "    }\n",
       "});\n",
       "\n",
       "require(['d3'], function(d3) {\n",
       "    window.d3 = d3;\n",
       "});\n",
       "</script>\n",
       "<script>\n",
       "_select = d3.select;\n",
       "\n",
       "d3.select49 = function(selection) {\n",
       "    return _select(\"#d3-cell-49\").select(selection);\n",
       "}\n",
       "d3.selectAll49 = function(selection) {\n",
       "    return _select(\"#d3-cell-49\").selectAll(selection);\n",
       "}\n",
       "</script>\n",
       "<g id=\"d3-cell-49\">\n",
       "\n",
       "<script>\n",
       "// define the data\n",
       "let data = [1, 1, 2, 3, 5, 8, 13, 21];\n",
       "let arcs = d3.pie()(data);\n",
       "\n",
       "console.log(arcs);\n",
       "</script>\n",
       "</g>"
      ],
      "text/plain": [
       "<IPython.core.display.HTML object>"
      ]
     },
     "metadata": {},
     "output_type": "display_data"
    }
   ],
   "source": [
    "%%d3 4.4.4\n",
    "\n",
    "<script>\n",
    "// define the data\n",
    "let data = [1, 1, 2, 3, 5, 8, 13, 21];\n",
    "let arcs = d3.pie()(data);\n",
    "\n",
    "console.log(arcs);\n",
    "</script>"
   ]
  },
  {
   "cell_type": "markdown",
   "metadata": {},
   "source": [
    "The default generator generates an array of objects with the following properties (example):"
   ]
  },
  {
   "cell_type": "markdown",
   "metadata": {},
   "source": [
    "    data:8\n",
    "    endAngle:4.886921905584122\n",
    "    index:2\n",
    "    padAngle:0\n",
    "    startAngle:3.9560796378538132\n",
    "    value:8"
   ]
  },
  {
   "cell_type": "markdown",
   "metadata": {},
   "source": [
    "Then, feeding that into arc:"
   ]
  },
  {
   "cell_type": "code",
   "execution_count": 84,
   "metadata": {
    "collapsed": false
   },
   "outputs": [
    {
     "data": {
      "text/html": [
       "\n",
       "<script>\n",
       "requirejs.config({\n",
       "    paths: {\n",
       "        d3: \"//cdnjs.cloudflare.com/ajax/libs/d3/4.4.4/d3\"\n",
       "    }\n",
       "});\n",
       "\n",
       "require(['d3'], function(d3) {\n",
       "    window.d3 = d3;\n",
       "});\n",
       "</script>\n",
       "<script>\n",
       "_select = d3.select;\n",
       "\n",
       "d3.select81 = function(selection) {\n",
       "    return _select(\"#d3-cell-81\").select(selection);\n",
       "}\n",
       "d3.selectAll81 = function(selection) {\n",
       "    return _select(\"#d3-cell-81\").selectAll(selection);\n",
       "}\n",
       "</script>\n",
       "<g id=\"d3-cell-81\">\n",
       "\n",
       "<svg style=\"width:200px; height:200px;\"></svg>\n",
       "\n",
       "<script>\n",
       "// define the data\n",
       "let data = [0, 60, 75, 80, 120, 200, 270, 360];\n",
       "let arc_data = d3.pie()(data);\n",
       "\n",
       "let arc = d3.arc().innerRadius(25).outerRadius(50).padAngle(d => 0.1);\n",
       "\n",
       "let path = d3.select81(\"svg\").selectAll('path')\n",
       "  .data(arc_data)\n",
       "  .enter()\n",
       "  .append('path')\n",
       "  .attr('d', arc)\n",
       "  .attr('fill', 'steelblue').attr(\"transform\", \"translate(100, 100)\");\n",
       "</script>\n",
       "</g>"
      ],
      "text/plain": [
       "<IPython.core.display.HTML object>"
      ]
     },
     "metadata": {},
     "output_type": "display_data"
    }
   ],
   "source": [
    "%%d3 4.4.4\n",
    "\n",
    "<svg style=\"width:200px; height:200px;\"></svg>\n",
    "\n",
    "<script>\n",
    "// define the data\n",
    "let data = [0, 60, 75, 80, 120, 200, 270, 360];\n",
    "let arc_data = d3.pie()(data);\n",
    "\n",
    "let arc = d3.arc().innerRadius(25).outerRadius(50).padAngle(d => 0.1);\n",
    "\n",
    "let path = d3.select(\"svg\").selectAll('path')\n",
    "  .data(arc_data)\n",
    "  .enter()\n",
    "  .append('path')\n",
    "  .attr('d', arc)\n",
    "  .attr('fill', 'steelblue').attr(\"transform\", \"translate(100, 100)\");\n",
    "</script>"
   ]
  },
  {
   "cell_type": "code",
   "execution_count": 62,
   "metadata": {
    "collapsed": false
   },
   "outputs": [
    {
     "data": {
      "text/html": [
       "\n",
       "<script>\n",
       "requirejs.config({\n",
       "    paths: {\n",
       "        d3: \"//cdnjs.cloudflare.com/ajax/libs/d3/4.4.4/d3\"\n",
       "    }\n",
       "});\n",
       "\n",
       "require(['d3'], function(d3) {\n",
       "    window.d3 = d3;\n",
       "});\n",
       "</script>\n",
       "<script>\n",
       "_select = d3.select;\n",
       "\n",
       "d3.select59 = function(selection) {\n",
       "    return _select(\"#d3-cell-59\").select(selection);\n",
       "}\n",
       "d3.selectAll59 = function(selection) {\n",
       "    return _select(\"#d3-cell-59\").selectAll(selection);\n",
       "}\n",
       "</script>\n",
       "<g id=\"d3-cell-59\">\n",
       "\n",
       "<svg style=\"width:200px; height:200px;\"></svg>\n",
       "\n",
       "<script>\n",
       "// define the data\n",
       "let data = [0, 60, 75, 80, 120, 200, 270, 360];\n",
       "let arc_data = d3.pie()(data);\n",
       "\n",
       "let arc = d3.arc().innerRadius(25).outerRadius(50).cornerRadius(5);\n",
       "let pie = d3.pie();\n",
       "\n",
       "let path = d3.select59(\"svg\").selectAll('path')\n",
       "  .data(arc_data)\n",
       "  .enter()\n",
       "  .append('path')\n",
       "  .attr('d', arc)\n",
       "  .attr('fill', 'steelblue').attr(\"transform\", \"translate(100, 100)\");\n",
       "</script>\n",
       "</g>"
      ],
      "text/plain": [
       "<IPython.core.display.HTML object>"
      ]
     },
     "metadata": {},
     "output_type": "display_data"
    }
   ],
   "source": [
    "%%d3 4.4.4\n",
    "\n",
    "<svg style=\"width:200px; height:200px;\"></svg>\n",
    "\n",
    "<script>\n",
    "// define the data\n",
    "let data = [0, 60, 75, 80, 120, 200, 270, 360];\n",
    "let arc_data = d3.pie()(data);\n",
    "\n",
    "let arc = d3.arc().innerRadius(25).outerRadius(50).cornerRadius(5);\n",
    "let pie = d3.pie();\n",
    "\n",
    "let path = d3.select(\"svg\").selectAll('path')\n",
    "  .data(arc_data)\n",
    "  .enter()\n",
    "  .append('path')\n",
    "  .attr('d', arc)\n",
    "  .attr('fill', 'steelblue').attr(\"transform\", \"translate(100, 100)\");\n",
    "</script>"
   ]
  },
  {
   "cell_type": "code",
   "execution_count": 69,
   "metadata": {
    "collapsed": false
   },
   "outputs": [
    {
     "data": {
      "text/html": [
       "\n",
       "<script>\n",
       "requirejs.config({\n",
       "    paths: {\n",
       "        d3: \"//cdnjs.cloudflare.com/ajax/libs/d3/4.4.4/d3\"\n",
       "    }\n",
       "});\n",
       "\n",
       "require(['d3'], function(d3) {\n",
       "    window.d3 = d3;\n",
       "});\n",
       "</script>\n",
       "<script>\n",
       "_select = d3.select;\n",
       "\n",
       "d3.select66 = function(selection) {\n",
       "    return _select(\"#d3-cell-66\").select(selection);\n",
       "}\n",
       "d3.selectAll66 = function(selection) {\n",
       "    return _select(\"#d3-cell-66\").selectAll(selection);\n",
       "}\n",
       "</script>\n",
       "<g id=\"d3-cell-66\">\n",
       "\n",
       "<svg style=\"width:200px; height:200px;\"></svg>\n",
       "\n",
       "<script>\n",
       "// define the data\n",
       "let data = [0, 60, 75, 80, 120, 200, 270, 360];\n",
       "let arc_data = d3.pie()(data);\n",
       "\n",
       "let arc = d3.arc().innerRadius(25).outerRadius(50).padAngle(0.1);\n",
       "let pie = d3.pie();\n",
       "\n",
       "let path = d3.select66(\"svg\").selectAll('path')\n",
       "  .data(arc_data)\n",
       "  .enter()\n",
       "  .append('path')\n",
       "  .attr('d', arc)\n",
       "  .attr('fill', 'steelblue').attr(\"transform\", \"translate(100, 100)\");\n",
       "</script>\n",
       "</g>"
      ],
      "text/plain": [
       "<IPython.core.display.HTML object>"
      ]
     },
     "metadata": {},
     "output_type": "display_data"
    }
   ],
   "source": [
    "%%d3 4.4.4\n",
    "\n",
    "<svg style=\"width:200px; height:200px;\"></svg>\n",
    "\n",
    "<script>\n",
    "// define the data\n",
    "let data = [0, 60, 75, 80, 120, 200, 270, 360];\n",
    "let arc_data = d3.pie()(data);\n",
    "\n",
    "let arc = d3.arc().innerRadius(25).outerRadius(50).padAngle(0.1); // dont use directly! Bias!\n",
    "// cf. https://bl.ocks.org/mbostock/053fcc2295a445afab07\n",
    "let pie = d3.pie();\n",
    "\n",
    "let path = d3.select(\"svg\").selectAll('path')\n",
    "  .data(arc_data)\n",
    "  .enter()\n",
    "  .append('path')\n",
    "  .attr('d', arc)\n",
    "  .attr('fill', 'steelblue').attr(\"transform\", \"translate(100, 100)\");\n",
    "</script>"
   ]
  },
  {
   "cell_type": "markdown",
   "metadata": {},
   "source": [
    "Value accessor:"
   ]
  },
  {
   "cell_type": "code",
   "execution_count": 71,
   "metadata": {
    "collapsed": false
   },
   "outputs": [
    {
     "data": {
      "text/html": [
       "\n",
       "<script>\n",
       "requirejs.config({\n",
       "    paths: {\n",
       "        d3: \"//cdnjs.cloudflare.com/ajax/libs/d3/4.4.4/d3\"\n",
       "    }\n",
       "});\n",
       "\n",
       "require(['d3'], function(d3) {\n",
       "    window.d3 = d3;\n",
       "});\n",
       "</script>\n",
       "<script>\n",
       "_select = d3.select;\n",
       "\n",
       "d3.select68 = function(selection) {\n",
       "    return _select(\"#d3-cell-68\").select(selection);\n",
       "}\n",
       "d3.selectAll68 = function(selection) {\n",
       "    return _select(\"#d3-cell-68\").selectAll(selection);\n",
       "}\n",
       "</script>\n",
       "<g id=\"d3-cell-68\">\n",
       "\n",
       "<svg style=\"width:200px; height:200px;\"></svg>\n",
       "\n",
       "<script>\n",
       "// define the data\n",
       "var data = [\n",
       "  {\"number\":  4, \"name\": \"Locke\"},\n",
       "  {\"number\":  8, \"name\": \"Reyes\"},\n",
       "  {\"number\": 15, \"name\": \"Ford\"},\n",
       "  {\"number\": 16, \"name\": \"Jarrah\"},\n",
       "  {\"number\": 23, \"name\": \"Shephard\"},\n",
       "  {\"number\": 42, \"name\": \"Kwon\"}\n",
       "];\n",
       "\n",
       "let arc_data = d3.pie().value(d => d.number)(data);\n",
       "\n",
       "let arc = d3.arc().innerRadius(25).outerRadius(50).padAngle(0.1);\n",
       "let pie = d3.pie();\n",
       "\n",
       "let path = d3.select68(\"svg\").selectAll('path')\n",
       "  .data(arc_data)\n",
       "  .enter()\n",
       "  .append('path')\n",
       "  .attr('d', arc)\n",
       "  .attr('fill', 'steelblue').attr(\"transform\", \"translate(100, 100)\");\n",
       "</script>\n",
       "</g>"
      ],
      "text/plain": [
       "<IPython.core.display.HTML object>"
      ]
     },
     "metadata": {},
     "output_type": "display_data"
    }
   ],
   "source": [
    "%%d3 4.4.4\n",
    "\n",
    "<svg style=\"width:200px; height:200px;\"></svg>\n",
    "\n",
    "<script>\n",
    "// define the data\n",
    "var data = [\n",
    "  {\"number\":  4, \"name\": \"Locke\"},\n",
    "  {\"number\":  8, \"name\": \"Reyes\"},\n",
    "  {\"number\": 15, \"name\": \"Ford\"},\n",
    "  {\"number\": 16, \"name\": \"Jarrah\"},\n",
    "  {\"number\": 23, \"name\": \"Shephard\"},\n",
    "  {\"number\": 42, \"name\": \"Kwon\"}\n",
    "];\n",
    "\n",
    "let arc_data = d3.pie().value(d => d.number)(data);\n",
    "\n",
    "let arc = d3.arc().innerRadius(25).outerRadius(50).padAngle(0.1);\n",
    "let pie = d3.pie();\n",
    "\n",
    "let path = d3.select(\"svg\").selectAll('path')\n",
    "  .data(arc_data)\n",
    "  .enter()\n",
    "  .append('path')\n",
    "  .attr('d', arc)\n",
    "  .attr('fill', 'steelblue').attr(\"transform\", \"translate(100, 100)\");\n",
    "</script>"
   ]
  },
  {
   "cell_type": "markdown",
   "metadata": {},
   "source": [
    "There's also sorting, and a few other things I'm leaving out."
   ]
  },
  {
   "cell_type": "markdown",
   "metadata": {},
   "source": [
    "## Line\n",
    "\n",
    "Not sure yet what the diff between \"Line\" and \"Curve\" is."
   ]
  },
  {
   "cell_type": "code",
   "execution_count": 81,
   "metadata": {
    "collapsed": false
   },
   "outputs": [
    {
     "data": {
      "text/html": [
       "\n",
       "<script>\n",
       "requirejs.config({\n",
       "    paths: {\n",
       "        d3: \"//cdnjs.cloudflare.com/ajax/libs/d3/4.4.4/d3\"\n",
       "    }\n",
       "});\n",
       "\n",
       "require(['d3'], function(d3) {\n",
       "    window.d3 = d3;\n",
       "});\n",
       "</script>\n",
       "<script>\n",
       "_select = d3.select;\n",
       "\n",
       "d3.select78 = function(selection) {\n",
       "    return _select(\"#d3-cell-78\").select(selection);\n",
       "}\n",
       "d3.selectAll78 = function(selection) {\n",
       "    return _select(\"#d3-cell-78\").selectAll(selection);\n",
       "}\n",
       "</script>\n",
       "<g id=\"d3-cell-78\">\n",
       "\n",
       "<svg style=\"width:200px; height:200px;\"></svg>\n",
       "\n",
       "<script>\n",
       "// define the data\n",
       "let data = [\n",
       "    [0, 50],\n",
       "    [10, 100],\n",
       "    [20, 90],\n",
       "    [30, 50],\n",
       "    [40, 0],\n",
       "    [50, 10],\n",
       "    [60, 20],\n",
       "    [70, 70],\n",
       "    [80, 70],\n",
       "    [90, 90],\n",
       "    [100, 100]\n",
       "];\n",
       "\n",
       "let line = d3.line()(data);\n",
       "\n",
       "d3.select78(\"svg\").append(\"path\").attr(\"d\", line).attr(\"stroke\", \"black\").attr(\"fill\", \"white\")\n",
       "    .attr(\"transform\", \"translate(100, 100)\")\n",
       "</script>\n",
       "</g>"
      ],
      "text/plain": [
       "<IPython.core.display.HTML object>"
      ]
     },
     "metadata": {},
     "output_type": "display_data"
    }
   ],
   "source": [
    "%%d3 4.4.4\n",
    "\n",
    "<svg style=\"width:200px; height:200px;\"></svg>\n",
    "\n",
    "<script>\n",
    "// define the data\n",
    "let data = [\n",
    "    [0, 50],\n",
    "    [10, 100],\n",
    "    [20, 90],\n",
    "    [30, 50],\n",
    "    [40, 0],\n",
    "    [50, 10],\n",
    "    [60, 20],\n",
    "    [70, 70],\n",
    "    [80, 70],\n",
    "    [90, 90],\n",
    "    [100, 100]\n",
    "];\n",
    "\n",
    "let line = d3.line()(data);\n",
    "\n",
    "d3.select(\"svg\").append(\"path\").attr(\"d\", line).attr(\"stroke\", \"black\").attr(\"fill\", \"white\")\n",
    "    .attr(\"transform\", \"translate(100, 100)\")\n",
    "</script>"
   ]
  }
 ],
 "metadata": {
  "kernelspec": {
   "display_name": "Python 3",
   "language": "python",
   "name": "python3"
  },
  "language_info": {
   "codemirror_mode": {
    "name": "ipython",
    "version": 3
   },
   "file_extension": ".py",
   "mimetype": "text/x-python",
   "name": "python",
   "nbconvert_exporter": "python",
   "pygments_lexer": "ipython3",
   "version": "3.5.2"
  }
 },
 "nbformat": 4,
 "nbformat_minor": 2
}
