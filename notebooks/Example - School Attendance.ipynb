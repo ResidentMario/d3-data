{
 "cells": [
  {
   "cell_type": "code",
   "execution_count": 34,
   "metadata": {
    "collapsed": true
   },
   "outputs": [],
   "source": [
    "import pandas as pd\n",
    "attendance = pd.read_csv(\"https://data.cityofnewyork.us/api/views/7z8d-msnt/rows.csv?accessType=DOWNLOAD\")\n",
    "attendance.set_index('District')[:-1].to_csv(\"../data/school_attendance.csv\")"
   ]
  },
  {
   "cell_type": "code",
   "execution_count": 35,
   "metadata": {
    "collapsed": false
   },
   "outputs": [
    {
     "data": {
      "text/html": [
       "<div>\n",
       "<table border=\"1\" class=\"dataframe\">\n",
       "  <thead>\n",
       "    <tr style=\"text-align: right;\">\n",
       "      <th></th>\n",
       "      <th>District</th>\n",
       "      <th>YTD % Attendance (Avg)</th>\n",
       "      <th>YTD Enrollment(Avg)</th>\n",
       "    </tr>\n",
       "  </thead>\n",
       "  <tbody>\n",
       "    <tr>\n",
       "      <th>0</th>\n",
       "      <td>DISTRICT 01</td>\n",
       "      <td>91.18%</td>\n",
       "      <td>12367</td>\n",
       "    </tr>\n",
       "    <tr>\n",
       "      <th>1</th>\n",
       "      <td>DISTRICT 02</td>\n",
       "      <td>89.01%</td>\n",
       "      <td>60823</td>\n",
       "    </tr>\n",
       "    <tr>\n",
       "      <th>2</th>\n",
       "      <td>DISTRICT 03</td>\n",
       "      <td>89.28%</td>\n",
       "      <td>21962</td>\n",
       "    </tr>\n",
       "    <tr>\n",
       "      <th>3</th>\n",
       "      <td>DISTRICT 04</td>\n",
       "      <td>91.13%</td>\n",
       "      <td>14252</td>\n",
       "    </tr>\n",
       "    <tr>\n",
       "      <th>4</th>\n",
       "      <td>DISTRICT 05</td>\n",
       "      <td>89.08%</td>\n",
       "      <td>13170</td>\n",
       "    </tr>\n",
       "  </tbody>\n",
       "</table>\n",
       "</div>"
      ],
      "text/plain": [
       "      District YTD % Attendance (Avg)  YTD Enrollment(Avg)\n",
       "0  DISTRICT 01                 91.18%                12367\n",
       "1  DISTRICT 02                 89.01%                60823\n",
       "2  DISTRICT 03                 89.28%                21962\n",
       "3  DISTRICT 04                 91.13%                14252\n",
       "4  DISTRICT 05                 89.08%                13170"
      ]
     },
     "execution_count": 35,
     "metadata": {},
     "output_type": "execute_result"
    }
   ],
   "source": [
    "attendance.head()"
   ]
  },
  {
   "cell_type": "code",
   "execution_count": 36,
   "metadata": {
    "collapsed": false
   },
   "outputs": [
    {
     "data": {
      "text/plain": [
       "35"
      ]
     },
     "execution_count": 36,
     "metadata": {},
     "output_type": "execute_result"
    }
   ],
   "source": [
    "len(attendance)"
   ]
  },
  {
   "cell_type": "code",
   "execution_count": 3,
   "metadata": {
    "collapsed": false
   },
   "outputs": [],
   "source": [
    "%load_ext py_d3"
   ]
  },
  {
   "cell_type": "code",
   "execution_count": 53,
   "metadata": {
    "collapsed": false
   },
   "outputs": [
    {
     "data": {
      "text/html": [
       "\n",
       "<script>\n",
       "requirejs.config({\n",
       "    paths: {\n",
       "        d3: \"//cdnjs.cloudflare.com/ajax/libs/d3/4.4.4/d3\"\n",
       "    }\n",
       "});\n",
       "\n",
       "require(['d3'], function(d3) {\n",
       "    window.d3 = d3;\n",
       "});\n",
       "</script>\n",
       "<script>\n",
       "_select = d3.select;\n",
       "\n",
       "d3.select49 = function(selection) {\n",
       "    return _select(\"#d3-cell-49\").select(selection);\n",
       "}\n",
       "d3.selectAll49 = function(selection) {\n",
       "    return _select(\"#d3-cell-49\").selectAll(selection);\n",
       "}\n",
       "</script>\n",
       "<g id=\"d3-cell-49\">\n",
       "\n",
       "<svg style=\"width:800px; height:400px\"></svg>\n",
       "\n",
       "<script>\n",
       "    d3.csv(\"../data/school_attendance.csv\", function(data) {\n",
       "        // Use d3.pie() to create and configure the data that we need in a format that we can enter into.\n",
       "        let arc_data = d3.pie().value(d => d['YTD Enrollment(Avg)']).padAngle(d => 0.0115)(data);\n",
       "        \n",
       "        // Create the arc factory function that will render each data segment.\n",
       "        let arc = d3.arc().innerRadius(75).outerRadius(160);\n",
       "\n",
       "        // Run through each element of arc_data, creating and appening the arc for each one.\n",
       "        d3.select49(\"svg\")\n",
       "            .append(\"g\")\n",
       "            .attr(\"id\", \"transform\")\n",
       "            .attr(\"transform\", \"translate(400, 200)\")\n",
       "            .selectAll('path')\n",
       "            .data(arc_data)\n",
       "            .enter()\n",
       "            .append('path')\n",
       "            .attr('d', arc)\n",
       "            .attr('fill', 'steelblue');\n",
       "        \n",
       "        // Use arc and arc_data to calculate centroids, and from there to calculate.\n",
       "        arc_data.forEach(function(d, i) {\n",
       "            [x, y] = arc.centroid(d);\n",
       "            let label = d.data['District']\n",
       "            let rotation = d['startAngle'] / Math.PI / 2 * 360 - 90;\n",
       "            d3.select49(\"#transform\").append(\"text\")\n",
       "                .attr(\"x\", x).attr(\"y\", y)\n",
       "                .attr(\"text-anchor\", \"middle\").attr(\"alignment-baseline\", \"middle\")\n",
       "                .attr(\"transform\", \"rotate(\" + rotation + \")\")\n",
       "                .text(label);\n",
       "        })\n",
       "    })\n",
       "</script>\n",
       "</g>"
      ],
      "text/plain": [
       "<IPython.core.display.HTML object>"
      ]
     },
     "metadata": {},
     "output_type": "display_data"
    }
   ],
   "source": [
    "%%d3 4.4.4\n",
    "\n",
    "<svg style=\"width:800px; height:400px\"></svg>\n",
    "\n",
    "<script>\n",
    "    d3.csv(\"../data/school_attendance.csv\", function(data) {\n",
    "        // Use d3.pie() to create and configure the data that we need in a format that we can enter into.\n",
    "        let arc_data = d3.pie().value(d => d['YTD Enrollment(Avg)']).padAngle(d => 0.0115)(data);\n",
    "        \n",
    "        // Create the arc factory function that will render each data segment.\n",
    "        let arc = d3.arc().innerRadius(75).outerRadius(160);\n",
    "\n",
    "        // Run through each element of arc_data, creating and appening the arc for each one.\n",
    "        d3.select(\"svg\")\n",
    "            .append(\"g\")\n",
    "            .attr(\"id\", \"transform\")\n",
    "            .attr(\"transform\", \"translate(400, 200)\")\n",
    "            .selectAll('path')\n",
    "            .data(arc_data)\n",
    "            .enter()\n",
    "            .append('path')\n",
    "            .attr('d', arc)\n",
    "            .attr('fill', 'steelblue');\n",
    "        \n",
    "        // Use arc and arc_data to calculate centroids, and from there to calculate.\n",
    "        arc_data.forEach(function(d, i) {\n",
    "            [x, y] = arc.centroid(d);\n",
    "            let label = d.data['District']\n",
    "            let rotation = d['startAngle'] / Math.PI / 2 * 360 - 90;\n",
    "            d3.select(\"#transform\").append(\"text\")\n",
    "                .attr(\"x\", x).attr(\"y\", y)\n",
    "                .attr(\"text-anchor\", \"middle\").attr(\"alignment-baseline\", \"middle\")\n",
    "                .attr(\"transform\", \"rotate(\" + rotation + \")\")\n",
    "                .text(label);\n",
    "        })\n",
    "    })\n",
    "</script>"
   ]
  },
  {
   "cell_type": "markdown",
   "metadata": {
    "collapsed": true
   },
   "source": [
    "Note how this doesn't work. To demonstrate, I've generated the rotation of each label so that it is 5 times its indicial location. As you can see, the rotations do not go around the pie in a well-sorted order.\n",
    "\n",
    "Try replacing `d.index` with `i`, and things become even more garbled. This is because `i` is the pre-sorted order of the data points, e.g. the order in which they appeared *before* they were sorted in ascending order by `d3.pie()` (resulting in the neat gradient depicted here)."
   ]
  },
  {
   "cell_type": "code",
   "execution_count": 85,
   "metadata": {
    "collapsed": false
   },
   "outputs": [
    {
     "data": {
      "text/html": [
       "\n",
       "<script>\n",
       "requirejs.config({\n",
       "    paths: {\n",
       "        d3: \"//cdnjs.cloudflare.com/ajax/libs/d3/4.4.4/d3\"\n",
       "    }\n",
       "});\n",
       "\n",
       "require(['d3'], function(d3) {\n",
       "    window.d3 = d3;\n",
       "});\n",
       "</script>\n",
       "<script>\n",
       "_select = d3.select;\n",
       "\n",
       "d3.select79 = function(selection) {\n",
       "    return _select(\"#d3-cell-79\").select(selection);\n",
       "}\n",
       "d3.selectAll79 = function(selection) {\n",
       "    return _select(\"#d3-cell-79\").selectAll(selection);\n",
       "}\n",
       "</script>\n",
       "<g id=\"d3-cell-79\">\n",
       "\n",
       "<svg style=\"width:800px; height:400px\"></svg>\n",
       "\n",
       "<script>\n",
       "    d3.csv(\"../data/school_attendance.csv\", function(data) {\n",
       "        // Use d3.pie() to create and configure the data that we need in a format that we can enter into.\n",
       "        let arc_data = d3.pie().value(d => d['YTD Enrollment(Avg)']).padAngle(d => 0.0115)(data);\n",
       "        \n",
       "        // Create the arc factory function that will render each data segment.\n",
       "        let arc = d3.arc().innerRadius(75).outerRadius(160);\n",
       "\n",
       "        // Run through each element of arc_data, creating and appening the arc for each one.\n",
       "        d3.select79(\"svg\").selectAll('path')\n",
       "            .data(arc_data)\n",
       "            .enter()\n",
       "            .append('path')\n",
       "            .attr('d', arc)\n",
       "            .attr('fill', 'steelblue').attr(\"transform\", \"translate(400, 200)\");\n",
       "        \n",
       "        // Use arc and arc_data to calculate centroids, and from there to calculate.\n",
       "        arc_data.forEach(function(d, i) {\n",
       "            [x, y] = arc.centroid(d);\n",
       "            let label = d.data['District']\n",
       "            let rotation = d['startAngle'] / 2 * Math.PI * 360 - 90;\n",
       "            d3.select79(\"svg\").append(\"text\")\n",
       "                .attr(\"x\", x).attr(\"y\", y)\n",
       "                .attr(\"text-anchor\", \"middle\").attr(\"alignment-baseline\", \"middle\")\n",
       "                .attr(\"transform\", \"translate(400, 200) rotate(\" + rotation + \")\").text(label);\n",
       "            console.log(d.data['District'], rotation)\n",
       "        })\n",
       "    })\n",
       "</script>\n",
       "</g>"
      ],
      "text/plain": [
       "<IPython.core.display.HTML object>"
      ]
     },
     "metadata": {},
     "output_type": "display_data"
    }
   ],
   "source": [
    "%%d3 4.4.4\n",
    "\n",
    "<svg style=\"width:800px; height:400px\"></svg>\n",
    "\n",
    "<script>\n",
    "    d3.csv(\"../data/school_attendance.csv\", function(data) {\n",
    "        // Use d3.pie() to create and configure the data that we need in a format that we can enter into.\n",
    "        let arc_data = d3.pie().value(d => d['YTD Enrollment(Avg)']).padAngle(d => 0.0115)(data);\n",
    "        \n",
    "        // Create the arc factory function that will render each data segment.\n",
    "        let arc = d3.arc().innerRadius(75).outerRadius(160);\n",
    "\n",
    "        // Run through each element of arc_data, creating and appening the arc for each one.\n",
    "        d3.select(\"svg\").selectAll('path')\n",
    "            .data(arc_data)\n",
    "            .enter()\n",
    "            .append('path')\n",
    "            .attr('d', arc)\n",
    "            .attr('fill', 'steelblue').attr(\"transform\", \"translate(400, 200)\");\n",
    "        \n",
    "        // Use arc and arc_data to calculate centroids, and from there to calculate.\n",
    "        arc_data.forEach(function(d, i) {\n",
    "            [x, y] = arc.centroid(d);\n",
    "            let label = d.data['District']\n",
    "            let rotation = d['startAngle'] / 2 * Math.PI * 360 - 90;\n",
    "            d3.select(\"svg\").append(\"text\")\n",
    "                .attr(\"x\", x).attr(\"y\", y)\n",
    "                .attr(\"text-anchor\", \"middle\").attr(\"alignment-baseline\", \"middle\")\n",
    "                .attr(\"transform\", \"translate(400, 200) rotate(\" + rotation + \")\").text(label);\n",
    "            console.log(d.data['District'], rotation)\n",
    "        })\n",
    "    })\n",
    "</script>"
   ]
  },
  {
   "cell_type": "markdown",
   "metadata": {},
   "source": [
    "Why does this happen? Read more here: http://stackoverflow.com/questions/28884446/d3-rotating-text-around-a-pie-chart"
   ]
  }
 ],
 "metadata": {
  "kernelspec": {
   "display_name": "Python 3",
   "language": "python",
   "name": "python3"
  },
  "language_info": {
   "codemirror_mode": {
    "name": "ipython",
    "version": 3
   },
   "file_extension": ".py",
   "mimetype": "text/x-python",
   "name": "python",
   "nbconvert_exporter": "python",
   "pygments_lexer": "ipython3",
   "version": "3.5.3"
  }
 },
 "nbformat": 4,
 "nbformat_minor": 2
}
