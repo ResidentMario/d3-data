{
 "cells": [
  {
   "cell_type": "code",
   "execution_count": 1,
   "metadata": {
    "collapsed": true
   },
   "outputs": [],
   "source": [
    "%load_ext py_d3"
   ]
  },
  {
   "cell_type": "code",
   "execution_count": 13,
   "metadata": {
    "collapsed": false
   },
   "outputs": [
    {
     "data": {
      "text/html": [
       "\n",
       "<script>\n",
       "requirejs.config({\n",
       "    paths: {\n",
       "        d3: \"//cdnjs.cloudflare.com/ajax/libs/d3/4.4.4/d3\"\n",
       "    }\n",
       "});\n",
       "\n",
       "require(['d3'], function(d3) {\n",
       "    window.d3 = d3;\n",
       "});\n",
       "</script>\n",
       "<script>\n",
       "_select = d3.select;\n",
       "\n",
       "d3.select11 = function(selection) {\n",
       "    return _select(\"#d3-cell-11\").select(selection);\n",
       "}\n",
       "d3.selectAll11 = function(selection) {\n",
       "    return _select(\"#d3-cell-11\").selectAll(selection);\n",
       "}\n",
       "</script>\n",
       "<g id=\"d3-cell-11\">\n",
       "\n",
       "<script>\n",
       "    console.log(d3.histogram()([12,1,6,21,612,6,12,6,17,32,,12,1]))\n",
       "</script>\n",
       "</g>"
      ],
      "text/plain": [
       "<IPython.core.display.HTML object>"
      ]
     },
     "metadata": {},
     "output_type": "display_data"
    }
   ],
   "source": [
    "%%d3 4.4.4\n",
    "\n",
    "<script>\n",
    "    console.log(d3.histogram()([12,1,6,21,612,6,12,6,17,32,,12,1]))\n",
    "</script>"
   ]
  },
  {
   "cell_type": "code",
   "execution_count": 48,
   "metadata": {
    "collapsed": false
   },
   "outputs": [
    {
     "data": {
      "text/html": [
       "\n",
       "<script>\n",
       "requirejs.config({\n",
       "    paths: {\n",
       "        d3: \"//cdnjs.cloudflare.com/ajax/libs/d3/4.4.4/d3\"\n",
       "    }\n",
       "});\n",
       "\n",
       "require(['d3'], function(d3) {\n",
       "    window.d3 = d3;\n",
       "});\n",
       "</script>\n",
       "<script>\n",
       "_select = d3.select;\n",
       "\n",
       "d3.select46 = function(selection) {\n",
       "    return _select(\"#d3-cell-46\").select(selection);\n",
       "}\n",
       "d3.selectAll46 = function(selection) {\n",
       "    return _select(\"#d3-cell-46\").selectAll(selection);\n",
       "}\n",
       "</script>\n",
       "<g id=\"d3-cell-46\">\n",
       "\n",
       "<svg style=\"width:800px; height:400px\"></svg>\n",
       "\n",
       "<script>\n",
       "    d3.csv(\"../data/school_attendance.csv\", function(bar_data) {\n",
       "        \n",
       "        // First create the bin data structure.\n",
       "        let bins = d3.histogram().value(d => Number(d['YTD Enrollment(Avg)']))(bar_data);\n",
       "        \n",
       "        // Get the offsets.\n",
       "        // [binmin, binmax] = [bins.slice(0, 1)[0].x0, bins.slice(-1)[0].x1]\n",
       "        let bar_width = 800 / bins.length - 40;\n",
       "        let ymax = Math.max(...bins.map(d => d.length));\n",
       "        let ymin = Math.min(...bins.map(d => d.length));\n",
       "        \n",
       "        // Create the scales.\n",
       "        let x_scale = d3.scaleLinear().domain([0, bins.length]).range([0, 800 - bar_width]);\n",
       "        let y_scale = d3.scaleLinear().domain([0, ymax]).range([0, 400]);\n",
       "        let y_pos = function(height) { return 400 - y_scale(height); }\n",
       "        \n",
       "        // Create the display.\n",
       "        d3.select46(\"svg\")\n",
       "            .append(\"g\")\n",
       "            .attr(\"id\", \"translate\")\n",
       "            .selectAll(\".bar\")\n",
       "            .data(bins)\n",
       "            .enter()\n",
       "            .append(\"rect\")\n",
       "            .attr(\"x\", function(d, i) { return x_scale(i); })\n",
       "            .attr(\"y\", function(d) { return y_pos(d.length); })\n",
       "            .attr(\"width\", bar_width)\n",
       "            .attr(\"height\", function(d) { return y_scale(d.length); })\n",
       "            .attr(\"fill\", \"steelblue\")\n",
       "    })\n",
       "</script>\n",
       "</g>"
      ],
      "text/plain": [
       "<IPython.core.display.HTML object>"
      ]
     },
     "metadata": {},
     "output_type": "display_data"
    }
   ],
   "source": [
    "%%d3 4.4.4\n",
    "\n",
    "<svg style=\"width:800px; height:400px\"></svg>\n",
    "\n",
    "<script>\n",
    "    d3.csv(\"../data/school_attendance.csv\", function(bar_data) {\n",
    "        \n",
    "        // First create the bin data structure.\n",
    "        let bins = d3.histogram().value(d => Number(d['YTD Enrollment(Avg)']))(bar_data);\n",
    "        \n",
    "        // Get the offsets.\n",
    "        // [binmin, binmax] = [bins.slice(0, 1)[0].x0, bins.slice(-1)[0].x1]\n",
    "        let bar_width = 800 / bins.length - 40;\n",
    "        let ymax = Math.max(...bins.map(d => d.length));\n",
    "        let ymin = Math.min(...bins.map(d => d.length));\n",
    "        \n",
    "        // Create the scales.\n",
    "        let x_scale = d3.scaleLinear().domain([0, bins.length]).range([0, 800 - bar_width]);\n",
    "        let y_scale = d3.scaleLinear().domain([0, ymax]).range([0, 400]);\n",
    "        let y_pos = function(height) { return 400 - y_scale(height); }\n",
    "        \n",
    "        // Create the display.\n",
    "        d3.select(\"svg\")\n",
    "            .append(\"g\")\n",
    "            .attr(\"id\", \"translate\")\n",
    "            .selectAll(\".bar\")\n",
    "            .data(bins)\n",
    "            .enter()\n",
    "            .append(\"rect\")\n",
    "            .attr(\"x\", function(d, i) { return x_scale(i); })\n",
    "            .attr(\"y\", function(d) { return y_pos(d.length); })\n",
    "            .attr(\"width\", bar_width)\n",
    "            .attr(\"height\", function(d) { return y_scale(d.length); })\n",
    "            .attr(\"fill\", \"steelblue\")\n",
    "    })\n",
    "</script>"
   ]
  },
  {
   "cell_type": "code",
   "execution_count": null,
   "metadata": {
    "collapsed": true
   },
   "outputs": [],
   "source": []
  }
 ],
 "metadata": {
  "kernelspec": {
   "display_name": "Python 3",
   "language": "python",
   "name": "python3"
  },
  "language_info": {
   "codemirror_mode": {
    "name": "ipython",
    "version": 3
   },
   "file_extension": ".py",
   "mimetype": "text/x-python",
   "name": "python",
   "nbconvert_exporter": "python",
   "pygments_lexer": "ipython3",
   "version": "3.5.3"
  }
 },
 "nbformat": 4,
 "nbformat_minor": 2
}
