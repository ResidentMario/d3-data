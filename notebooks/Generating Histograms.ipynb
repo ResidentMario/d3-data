{
 "cells": [
  {
   "cell_type": "markdown",
   "metadata": {},
   "source": [
    "# Generating Histograms\n",
    "\n",
    "Most of the `d3-array` library components consist of small methods for dealing with array manipulation. In my opinion, these additional functions are better handled through the use of an external data manipulation library, like [lodash](https://lodash.com/), so I don't find that component of the library to be all that interesting.\n",
    "\n",
    "This component does however also have one other thing: histograms."
   ]
  },
  {
   "cell_type": "code",
   "execution_count": 2,
   "metadata": {
    "collapsed": true
   },
   "outputs": [],
   "source": [
    "%load_ext py_d3"
   ]
  },
  {
   "cell_type": "markdown",
   "metadata": {},
   "source": [
    "The output will be an array of arrays, with each subarray (representing a data bin) having values associated with that subarray assigned to indixers and two additional attributes, `x0` and `x1`, which denote the boundaries of that particular bin."
   ]
  },
  {
   "cell_type": "code",
   "execution_count": 3,
   "metadata": {
    "collapsed": false
   },
   "outputs": [
    {
     "data": {
      "application/javascript": [
       "\n",
       "console.log(d3)"
      ],
      "text/plain": [
       "<IPython.core.display.Javascript object>"
      ]
     },
     "metadata": {},
     "output_type": "display_data"
    }
   ],
   "source": [
    "%%javascript\n",
    "\n",
    "console.log(d3)"
   ]
  },
  {
   "cell_type": "code",
   "execution_count": 4,
   "metadata": {
    "collapsed": false
   },
   "outputs": [
    {
     "data": {
      "text/html": [
       "\n",
       "<script>\n",
       "requirejs.config({\n",
       "    paths: {\n",
       "        d3: \"//cdnjs.cloudflare.com/ajax/libs/d3/4.4.4/d3\"\n",
       "    }\n",
       "});\n",
       "\n",
       "require(['d3'], function(d3) {\n",
       "    window.d3 = d3;\n",
       "});\n",
       "</script>\n",
       "<script>\n",
       "_select = d3.select;\n",
       "\n",
       "d3.select0 = function(selection) {\n",
       "    return _select(\"#d3-cell-0\").select(selection);\n",
       "}\n",
       "d3.selectAll0 = function(selection) {\n",
       "    return _select(\"#d3-cell-0\").selectAll(selection);\n",
       "}\n",
       "</script>\n",
       "<g id=\"d3-cell-0\">\n",
       "\n",
       "<script>\n",
       "console.log(d3)\n",
       "</script>\n",
       "</g>"
      ],
      "text/plain": [
       "<IPython.core.display.HTML object>"
      ]
     },
     "metadata": {},
     "output_type": "display_data"
    }
   ],
   "source": [
    "%%d3 4.4.4\n",
    "\n",
    "<script>\n",
    "console.log(d3)\n",
    "</script>"
   ]
  },
  {
   "cell_type": "code",
   "execution_count": 5,
   "metadata": {
    "collapsed": false
   },
   "outputs": [
    {
     "data": {
      "text/html": [
       "\n",
       "<script>\n",
       "requirejs.config({\n",
       "    paths: {\n",
       "        d3: \"//cdnjs.cloudflare.com/ajax/libs/d3/4.4.4/d3\"\n",
       "    }\n",
       "});\n",
       "\n",
       "require(['d3'], function(d3) {\n",
       "    window.d3 = d3;\n",
       "});\n",
       "</script>\n",
       "<script>\n",
       "_select = d3.select;\n",
       "\n",
       "d3.select1 = function(selection) {\n",
       "    return _select(\"#d3-cell-1\").select(selection);\n",
       "}\n",
       "d3.selectAll1 = function(selection) {\n",
       "    return _select(\"#d3-cell-1\").selectAll(selection);\n",
       "}\n",
       "</script>\n",
       "<g id=\"d3-cell-1\">\n",
       "\n",
       "<script>\n",
       "let bins = d3.histogram()([1,2,3]);\n",
       "console.log(bins);\n",
       "</script>\n",
       "</g>"
      ],
      "text/plain": [
       "<IPython.core.display.HTML object>"
      ]
     },
     "metadata": {},
     "output_type": "display_data"
    }
   ],
   "source": [
    "%%d3 4.4.4\n",
    "\n",
    "<script>\n",
    "let bins = d3.histogram()([1,2,3]);\n",
    "console.log(bins);\n",
    "</script>"
   ]
  },
  {
   "cell_type": "markdown",
   "metadata": {},
   "source": [
    "    > bins = d3.histogram()([1,2,3])\n",
    "    [ [ 1, x0: 1, x1: 1.5 ],\n",
    "      [ x0: 1.5, x1: 2 ],\n",
    "      [ 2, x0: 2, x1: 2.5 ],\n",
    "      [ 3, x0: 2.5, x1: 3 ] ]"
   ]
  },
  {
   "cell_type": "markdown",
   "metadata": {},
   "source": [
    "We can build a dead-simple (upside-down) histogram using these semantics."
   ]
  },
  {
   "cell_type": "code",
   "execution_count": 6,
   "metadata": {
    "collapsed": false
   },
   "outputs": [
    {
     "data": {
      "text/html": [
       "\n",
       "<script>\n",
       "requirejs.config({\n",
       "    paths: {\n",
       "        d3: \"//cdnjs.cloudflare.com/ajax/libs/d3/4.4.4/d3\"\n",
       "    }\n",
       "});\n",
       "\n",
       "require(['d3'], function(d3) {\n",
       "    window.d3 = d3;\n",
       "});\n",
       "</script>\n",
       "<script>\n",
       "_select = d3.select;\n",
       "\n",
       "d3.select2 = function(selection) {\n",
       "    return _select(\"#d3-cell-2\").select(selection);\n",
       "}\n",
       "d3.selectAll2 = function(selection) {\n",
       "    return _select(\"#d3-cell-2\").selectAll(selection);\n",
       "}\n",
       "</script>\n",
       "<g id=\"d3-cell-2\">\n",
       "\n",
       "<svg style=\"width:400; height:200\"></svg>\n",
       "\n",
       "<script>\n",
       "let data = [1,2,3];\n",
       "let bins = d3.histogram()([1,2,3]);    \n",
       "\n",
       "let x_scale = d3.scaleLinear().domain([1, 3]).range([0, 400]);\n",
       "let bar_width = 400 / bins.length - 5;\n",
       "\n",
       "let y_scale = d3.scaleLinear().domain([0, 2]).range([0, 200]);\n",
       "\n",
       "d3.select2(\"svg\").selectAll(\".bar\")\n",
       "    .data(bins)\n",
       "    .enter()\n",
       "    .append(\"rect\")\n",
       "    .attr(\"x\", d => (x_scale(d.x0)))\n",
       "    .attr(\"width\", bar_width)\n",
       "    .attr(\"height\", d => (y_scale(d.length)))\n",
       "</script>\n",
       "</g>"
      ],
      "text/plain": [
       "<IPython.core.display.HTML object>"
      ]
     },
     "metadata": {},
     "output_type": "display_data"
    }
   ],
   "source": [
    "%%d3 4.4.4\n",
    "\n",
    "<svg style=\"width:400; height:200\"></svg>\n",
    "\n",
    "<script>\n",
    "let data = [1,2,3];\n",
    "let bins = d3.histogram()([1,2,3]);    \n",
    "\n",
    "let x_scale = d3.scaleLinear().domain([1, 3]).range([0, 400]);\n",
    "let bar_width = 400 / bins.length - 5;\n",
    "\n",
    "let y_scale = d3.scaleLinear().domain([0, 2]).range([0, 200]);\n",
    "\n",
    "d3.select(\"svg\").selectAll(\".bar\")\n",
    "    .data(bins)\n",
    "    .enter()\n",
    "    .append(\"rect\")\n",
    "    .attr(\"x\", d => (x_scale(d.x0)))\n",
    "    .attr(\"width\", bar_width)\n",
    "    .attr(\"height\", d => (y_scale(d.length)))\n",
    "</script>"
   ]
  },
  {
   "cell_type": "markdown",
   "metadata": {},
   "source": [
    "With more data:"
   ]
  },
  {
   "cell_type": "code",
   "execution_count": 7,
   "metadata": {
    "collapsed": false
   },
   "outputs": [
    {
     "data": {
      "text/html": [
       "\n",
       "<script>\n",
       "requirejs.config({\n",
       "    paths: {\n",
       "        d3: \"//cdnjs.cloudflare.com/ajax/libs/d3/4.4.4/d3\"\n",
       "    }\n",
       "});\n",
       "\n",
       "require(['d3'], function(d3) {\n",
       "    window.d3 = d3;\n",
       "});\n",
       "</script>\n",
       "<script>\n",
       "_select = d3.select;\n",
       "\n",
       "d3.select3 = function(selection) {\n",
       "    return _select(\"#d3-cell-3\").select(selection);\n",
       "}\n",
       "d3.selectAll3 = function(selection) {\n",
       "    return _select(\"#d3-cell-3\").selectAll(selection);\n",
       "}\n",
       "</script>\n",
       "<g id=\"d3-cell-3\">\n",
       "\n",
       "<svg style=\"width:400; height:200\"></svg>\n",
       "\n",
       "<script>\n",
       "let data = [1,2,3,126,12,671,17,1,16,176,12,,61,12,,821,5,9,2,84,2616,38,27,13,73,5824,243,\n",
       "            282,25,2,166,1671,21,1,1612,31,3,237,36,59,65,6,7,945,3,52,1,5132,46,4237,3,26];\n",
       "let bins = d3.histogram()(data); \n",
       "\n",
       "let x_scale = d3.scaleLinear().domain([0, 6000]).range([0, 400]);\n",
       "let bar_width = 400 / bins.length - 5;\n",
       "\n",
       "let y_scale = d3.scaleLinear().domain([0, 50]).range([0, 200]);\n",
       "\n",
       "d3.select3(\"svg\").selectAll(\".bar\")\n",
       "    .data(bins)\n",
       "    .enter()\n",
       "    .append(\"rect\")\n",
       "    .attr(\"x\", d => (x_scale(d.x0)))\n",
       "    .attr(\"width\", bar_width)\n",
       "    .attr(\"height\", d => (y_scale(d.length)))\n",
       "</script>\n",
       "</g>"
      ],
      "text/plain": [
       "<IPython.core.display.HTML object>"
      ]
     },
     "metadata": {},
     "output_type": "display_data"
    }
   ],
   "source": [
    "%%d3 4.4.4\n",
    "\n",
    "<svg style=\"width:400; height:200\"></svg>\n",
    "\n",
    "<script>\n",
    "let data = [1,2,3,126,12,671,17,1,16,176,12,,61,12,,821,5,9,2,84,2616,38,27,13,73,5824,243,\n",
    "            282,25,2,166,1671,21,1,1612,31,3,237,36,59,65,6,7,945,3,52,1,5132,46,4237,3,26];\n",
    "let bins = d3.histogram()(data); \n",
    "\n",
    "let x_scale = d3.scaleLinear().domain([0, 6000]).range([0, 400]);\n",
    "let bar_width = 400 / bins.length - 5;\n",
    "\n",
    "let y_scale = d3.scaleLinear().domain([0, 50]).range([0, 200]);\n",
    "\n",
    "d3.select(\"svg\").selectAll(\".bar\")\n",
    "    .data(bins)\n",
    "    .enter()\n",
    "    .append(\"rect\")\n",
    "    .attr(\"x\", d => (x_scale(d.x0)))\n",
    "    .attr(\"width\", bar_width)\n",
    "    .attr(\"height\", d => (y_scale(d.length)))\n",
    "</script>"
   ]
  },
  {
   "cell_type": "markdown",
   "metadata": {},
   "source": [
    "The default domain for the bins is going to be the smallest and the largest value in the data provided. You can choose instead to specify your own custom domain, whether larger or smaller than that, using the `domain()` factory modifier. In this case, we effectively \"zoom in\" on the front of the distribution."
   ]
  },
  {
   "cell_type": "code",
   "execution_count": 8,
   "metadata": {
    "collapsed": false
   },
   "outputs": [
    {
     "data": {
      "text/html": [
       "\n",
       "<script>\n",
       "requirejs.config({\n",
       "    paths: {\n",
       "        d3: \"//cdnjs.cloudflare.com/ajax/libs/d3/4.4.4/d3\"\n",
       "    }\n",
       "});\n",
       "\n",
       "require(['d3'], function(d3) {\n",
       "    window.d3 = d3;\n",
       "});\n",
       "</script>\n",
       "<script>\n",
       "_select = d3.select;\n",
       "\n",
       "d3.select4 = function(selection) {\n",
       "    return _select(\"#d3-cell-4\").select(selection);\n",
       "}\n",
       "d3.selectAll4 = function(selection) {\n",
       "    return _select(\"#d3-cell-4\").selectAll(selection);\n",
       "}\n",
       "</script>\n",
       "<g id=\"d3-cell-4\">\n",
       "\n",
       "<svg style=\"width:400; height:200\"></svg>\n",
       "\n",
       "<script>\n",
       "let data = [1,2,3,126,12,671,17,1,16,176,12,,61,12,,821,5,9,2,84,2616,38,27,13,73,5824,243,\n",
       "            282,25,2,166,1671,21,1,1612,31,3,237,36,59,65,6,7,945,3,52,1,5132,46,4237,3,26];\n",
       "let bins = d3.histogram().domain([0, 100])(data); \n",
       "\n",
       "let x_scale = d3.scaleLinear().domain([0, 100]).range([0, 400]);\n",
       "let bar_width = 400 / bins.length - 5;\n",
       "\n",
       "let y_scale = d3.scaleLinear().domain([0, 20]).range([0, 200]);\n",
       "\n",
       "d3.select4(\"svg\").selectAll(\".bar\")\n",
       "    .data(bins)\n",
       "    .enter()\n",
       "    .append(\"rect\")\n",
       "    .attr(\"x\", d => (x_scale(d.x0)))\n",
       "    .attr(\"width\", bar_width)\n",
       "    .attr(\"height\", d => (y_scale(d.length)))\n",
       "</script>\n",
       "</g>"
      ],
      "text/plain": [
       "<IPython.core.display.HTML object>"
      ]
     },
     "metadata": {},
     "output_type": "display_data"
    }
   ],
   "source": [
    "%%d3 4.4.4\n",
    "\n",
    "<svg style=\"width:400; height:200\"></svg>\n",
    "\n",
    "<script>\n",
    "let data = [1,2,3,126,12,671,17,1,16,176,12,,61,12,,821,5,9,2,84,2616,38,27,13,73,5824,243,\n",
    "            282,25,2,166,1671,21,1,1612,31,3,237,36,59,65,6,7,945,3,52,1,5132,46,4237,3,26];\n",
    "let bins = d3.histogram().domain([0, 100])(data); \n",
    "\n",
    "let x_scale = d3.scaleLinear().domain([0, 100]).range([0, 400]);\n",
    "let bar_width = 400 / bins.length - 5;\n",
    "\n",
    "let y_scale = d3.scaleLinear().domain([0, 20]).range([0, 200]);\n",
    "\n",
    "d3.select(\"svg\").selectAll(\".bar\")\n",
    "    .data(bins)\n",
    "    .enter()\n",
    "    .append(\"rect\")\n",
    "    .attr(\"x\", d => (x_scale(d.x0)))\n",
    "    .attr(\"width\", bar_width)\n",
    "    .attr(\"height\", d => (y_scale(d.length)))\n",
    "</script>"
   ]
  },
  {
   "cell_type": "markdown",
   "metadata": {},
   "source": [
    "To specify your own thresholds, use the `thresholds()` factory modifier. This will take a list of numerical edges that you would like your bins to depend on."
   ]
  },
  {
   "cell_type": "code",
   "execution_count": 9,
   "metadata": {
    "collapsed": false
   },
   "outputs": [
    {
     "data": {
      "text/html": [
       "\n",
       "<script>\n",
       "requirejs.config({\n",
       "    paths: {\n",
       "        d3: \"//cdnjs.cloudflare.com/ajax/libs/d3/4.4.4/d3\"\n",
       "    }\n",
       "});\n",
       "\n",
       "require(['d3'], function(d3) {\n",
       "    window.d3 = d3;\n",
       "});\n",
       "</script>\n",
       "<script>\n",
       "_select = d3.select;\n",
       "\n",
       "d3.select5 = function(selection) {\n",
       "    return _select(\"#d3-cell-5\").select(selection);\n",
       "}\n",
       "d3.selectAll5 = function(selection) {\n",
       "    return _select(\"#d3-cell-5\").selectAll(selection);\n",
       "}\n",
       "</script>\n",
       "<g id=\"d3-cell-5\">\n",
       "\n",
       "<svg style=\"width:400; height:200\"></svg>\n",
       "\n",
       "<script>\n",
       "let data = [1,2,3,126,12,671,17,1,16,176,12,,61,12,,821,5,9,2,84,2616,38,27,13,73,5824,243,\n",
       "            282,25,2,166,1671,21,1,1612,31,3,237,36,59,65,6,7,945,3,52,1,5132,46,4237,3,26];\n",
       "\n",
       "let x_scale = d3.scaleLinear().domain([0, 6000]).range([0, 400]);\n",
       "let edges = x_scale.ticks(20);\n",
       "let bar_width = 400 / edges.length - 5;\n",
       "\n",
       "let bins = d3.histogram().thresholds(edges)(data);\n",
       "\n",
       "let y_scale = d3.scaleLinear().domain([0, 5]).range([0, 200]);\n",
       "\n",
       "d3.select5(\"svg\").selectAll(\".bar\")\n",
       "    .data(bins)\n",
       "    .enter()\n",
       "    .append(\"rect\")\n",
       "    .attr(\"x\", d => (x_scale(d.x0)))\n",
       "    .attr(\"width\", bar_width)\n",
       "    .attr(\"height\", d => (y_scale(d.length)))\n",
       "</script>\n",
       "</g>"
      ],
      "text/plain": [
       "<IPython.core.display.HTML object>"
      ]
     },
     "metadata": {},
     "output_type": "display_data"
    }
   ],
   "source": [
    "%%d3 4.4.4\n",
    "\n",
    "<svg style=\"width:400; height:200\"></svg>\n",
    "\n",
    "<script>\n",
    "let data = [1,2,3,126,12,671,17,1,16,176,12,,61,12,,821,5,9,2,84,2616,38,27,13,73,5824,243,\n",
    "            282,25,2,166,1671,21,1,1612,31,3,237,36,59,65,6,7,945,3,52,1,5132,46,4237,3,26];\n",
    "\n",
    "let x_scale = d3.scaleLinear().domain([0, 6000]).range([0, 400]);\n",
    "let edges = x_scale.ticks(20);\n",
    "let bar_width = 400 / edges.length - 5;\n",
    "\n",
    "let bins = d3.histogram().thresholds(edges)(data);\n",
    "\n",
    "let y_scale = d3.scaleLinear().domain([0, 5]).range([0, 200]);\n",
    "\n",
    "d3.select(\"svg\").selectAll(\".bar\")\n",
    "    .data(bins)\n",
    "    .enter()\n",
    "    .append(\"rect\")\n",
    "    .attr(\"x\", d => (x_scale(d.x0)))\n",
    "    .attr(\"width\", bar_width)\n",
    "    .attr(\"height\", d => (y_scale(d.length)))\n",
    "</script>"
   ]
  },
  {
   "cell_type": "markdown",
   "metadata": {},
   "source": [
    "Finally, you can pass an object more complex than a simple range of numbers by defining a getter with the `value()` factory modifier. In the case below our observations are wrapped in objects containing labels, so we need to access `obj.n` to get the actual numerics we want to make into a histogram."
   ]
  },
  {
   "cell_type": "code",
   "execution_count": 10,
   "metadata": {
    "collapsed": false
   },
   "outputs": [
    {
     "data": {
      "text/html": [
       "\n",
       "<script>\n",
       "requirejs.config({\n",
       "    paths: {\n",
       "        d3: \"//cdnjs.cloudflare.com/ajax/libs/d3/4.4.4/d3\"\n",
       "    }\n",
       "});\n",
       "\n",
       "require(['d3'], function(d3) {\n",
       "    window.d3 = d3;\n",
       "});\n",
       "</script>\n",
       "<script>\n",
       "_select = d3.select;\n",
       "\n",
       "d3.select6 = function(selection) {\n",
       "    return _select(\"#d3-cell-6\").select(selection);\n",
       "}\n",
       "d3.selectAll6 = function(selection) {\n",
       "    return _select(\"#d3-cell-6\").selectAll(selection);\n",
       "}\n",
       "</script>\n",
       "<g id=\"d3-cell-6\">\n",
       "\n",
       "<svg style=\"width:400; height:200\"></svg>\n",
       "\n",
       "<script>\n",
       "let data = [{'n': 2, 'label': 'Apples'}, {'n': 5, 'label': 'Bananas'}, {'n': 3, 'label': 'Cherries'}];\n",
       "let bins = d3.histogram().value(obj => (obj.n))(data);\n",
       "\n",
       "let x_scale = d3.scaleLinear().domain([2, 5]).range([0, 400]);\n",
       "let bar_width = 400 / bins.length - 5;\n",
       "\n",
       "\n",
       "let y_scale = d3.scaleLinear().domain([0, 5]).range([0, 200]);\n",
       "\n",
       "d3.select6(\"svg\").selectAll(\".bar\")\n",
       "    .data(bins)\n",
       "    .enter()\n",
       "    .append(\"rect\")\n",
       "    .attr(\"x\", d => (x_scale(d.x0)))\n",
       "    .attr(\"width\", bar_width)\n",
       "    .attr(\"height\", d => (y_scale(d.length)))\n",
       "</script>\n",
       "</g>"
      ],
      "text/plain": [
       "<IPython.core.display.HTML object>"
      ]
     },
     "metadata": {},
     "output_type": "display_data"
    }
   ],
   "source": [
    "%%d3 4.4.4\n",
    "\n",
    "<svg style=\"width:400; height:200\"></svg>\n",
    "\n",
    "<script>\n",
    "let data = [{'n': 2, 'label': 'Apples'}, {'n': 5, 'label': 'Bananas'}, {'n': 3, 'label': 'Cherries'}];\n",
    "let bins = d3.histogram().value(obj => (obj.n))(data);\n",
    "\n",
    "let x_scale = d3.scaleLinear().domain([2, 5]).range([0, 400]);\n",
    "let bar_width = 400 / bins.length - 5;\n",
    "\n",
    "\n",
    "let y_scale = d3.scaleLinear().domain([0, 5]).range([0, 200]);\n",
    "\n",
    "d3.select(\"svg\").selectAll(\".bar\")\n",
    "    .data(bins)\n",
    "    .enter()\n",
    "    .append(\"rect\")\n",
    "    .attr(\"x\", d => (x_scale(d.x0)))\n",
    "    .attr(\"width\", bar_width)\n",
    "    .attr(\"height\", d => (y_scale(d.length)))\n",
    "</script>"
   ]
  },
  {
   "cell_type": "code",
   "execution_count": 21,
   "metadata": {
    "collapsed": false
   },
   "outputs": [
    {
     "data": {
      "text/html": [
       "\n",
       "<script>\n",
       "requirejs.config({\n",
       "    paths: {\n",
       "        d3: \"//cdnjs.cloudflare.com/ajax/libs/d3/4.4.4/d3\"\n",
       "    }\n",
       "});\n",
       "\n",
       "require(['d3'], function(d3) {\n",
       "    window.d3 = d3;\n",
       "});\n",
       "</script>\n",
       "<script>\n",
       "_select = d3.select;\n",
       "\n",
       "d3.select15 = function(selection) {\n",
       "    return _select(\"#d3-cell-15\").select(selection);\n",
       "}\n",
       "d3.selectAll15 = function(selection) {\n",
       "    return _select(\"#d3-cell-15\").selectAll(selection);\n",
       "}\n",
       "</script>\n",
       "<g id=\"d3-cell-15\">\n",
       "\n",
       "<svg style=\"width:800; height:400\">\n",
       "    <g id=\"content\"></g>\n",
       "</svg>\n",
       "\n",
       "<script>\n",
       "// let data = [10, 1,216,21,7,121,1,36,2,743,47,125,12,438,346,8,24,73,71,12,254,6317,2587,32,582];\n",
       "let data = [...Array(500).keys()].map(_ => (d3.randomNormal()()))\n",
       "let bins = d3.histogram()(data);\n",
       "\n",
       "function reset() {\n",
       "    d3.select15(\"#content\").remove();\n",
       "    d3.select15(\"svg\").append(\"g\").attr(\"id\", \"content\");\n",
       "}\n",
       "\n",
       "function draw(data) {\n",
       "    let bins = d3.histogram()(data);\n",
       "    \n",
       "    let x_min = Math.min(...data);\n",
       "    let x_max = Math.max(...data);\n",
       "    \n",
       "    console.log(x_min);\n",
       "    console.log(x_max);\n",
       "    \n",
       "    let x_scale = d3.scaleLinear().domain([x_min, x_max]).range([0, 800]);\n",
       "    \n",
       "    let bar_width = 800 / bins.length - 5;\n",
       "\n",
       "    let y_scale = d3.scaleLinear().domain([0, 100]).range([0, 400]);\n",
       "\n",
       "    d3.select15(\"svg\").selectAll(\".bar\")\n",
       "        .data(bins)\n",
       "        .enter()\n",
       "        .append(\"rect\")\n",
       "        .attr(\"x\", d => (x_scale(d.x0)))\n",
       "        .attr(\"width\", bar_width)\n",
       "        .attr(\"height\", d => (y_scale(d.length)))\n",
       "        .attr(\"fill\", \"steelblue\")\n",
       "    \n",
       "}\n",
       "\n",
       "function redraw() {\n",
       "    reset();\n",
       "    draw();\n",
       "}\n",
       "\n",
       "draw(data);\n",
       "</script>\n",
       "</g>"
      ],
      "text/plain": [
       "<IPython.core.display.HTML object>"
      ]
     },
     "metadata": {},
     "output_type": "display_data"
    }
   ],
   "source": [
    "%%d3 4.4.4\n",
    "\n",
    "<svg style=\"width:800; height:400\">\n",
    "    <g id=\"content\"></g>\n",
    "</svg>\n",
    "\n",
    "<script>\n",
    "// let data = [10, 1,216,21,7,121,1,36,2,743,47,125,12,438,346,8,24,73,71,12,254,6317,2587,32,582];\n",
    "let data = [...Array(500).keys()].map(_ => (d3.randomNormal()()))\n",
    "let bins = d3.histogram()(data);\n",
    "\n",
    "function reset() {\n",
    "    d3.select(\"#content\").remove();\n",
    "    d3.select(\"svg\").append(\"g\").attr(\"id\", \"content\");\n",
    "}\n",
    "\n",
    "function draw(data) {\n",
    "    let bins = d3.histogram()(data);\n",
    "    \n",
    "    let x_min = Math.min(...data);\n",
    "    let x_max = Math.max(...data);\n",
    "    \n",
    "    console.log(x_min);\n",
    "    console.log(x_max);\n",
    "    \n",
    "    let x_scale = d3.scaleLinear().domain([x_min, x_max]).range([0, 800]);\n",
    "    \n",
    "    let bar_width = 800 / bins.length - 5;\n",
    "\n",
    "    let y_scale = d3.scaleLinear().domain([0, 100]).range([0, 400]);\n",
    "\n",
    "    d3.select(\"svg\").selectAll(\".bar\")\n",
    "        .data(bins)\n",
    "        .enter()\n",
    "        .append(\"rect\")\n",
    "        .attr(\"x\", d => (x_scale(d.x0)))\n",
    "        .attr(\"width\", bar_width)\n",
    "        .attr(\"height\", d => (y_scale(d.length)))\n",
    "        .attr(\"fill\", \"steelblue\")\n",
    "    \n",
    "}\n",
    "\n",
    "function redraw() {\n",
    "    reset();\n",
    "    draw();\n",
    "}\n",
    "\n",
    "draw(data);\n",
    "</script>"
   ]
  }
 ],
 "metadata": {
  "kernelspec": {
   "display_name": "Python 3",
   "language": "python",
   "name": "python3"
  },
  "language_info": {
   "codemirror_mode": {
    "name": "ipython",
    "version": 3
   },
   "file_extension": ".py",
   "mimetype": "text/x-python",
   "name": "python",
   "nbconvert_exporter": "python",
   "pygments_lexer": "ipython3",
   "version": "3.5.3"
  }
 },
 "nbformat": 4,
 "nbformat_minor": 2
}
