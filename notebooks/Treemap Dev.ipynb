{
 "cells": [
  {
   "cell_type": "code",
   "execution_count": 1,
   "metadata": {
    "collapsed": true
   },
   "outputs": [],
   "source": [
    "%load_ext py_d3"
   ]
  },
  {
   "cell_type": "code",
   "execution_count": 37,
   "metadata": {
    "collapsed": false
   },
   "outputs": [
    {
     "data": {
      "text/html": [
       "\n",
       "<script>\n",
       "requirejs.config({\n",
       "    paths: {\n",
       "        d3: \"//cdnjs.cloudflare.com/ajax/libs/d3/4.4.4/d3\"\n",
       "    }\n",
       "});\n",
       "\n",
       "require(['d3'], function(d3) {\n",
       "    window.d3 = d3;\n",
       "});\n",
       "</script>\n",
       "<script>\n",
       "_select = d3.select;\n",
       "\n",
       "d3.select35 = function(selection) {\n",
       "    return _select(\"#d3-cell-35\").select(selection);\n",
       "}\n",
       "d3.selectAll35 = function(selection) {\n",
       "    return _select(\"#d3-cell-35\").selectAll(selection);\n",
       "}\n",
       "</script>\n",
       "<g id=\"d3-cell-35\">\n",
       "\n",
       "<svg width=800 height=400></svg>\n",
       "\n",
       "<script>\n",
       "    requirejs.config({\n",
       "        paths: {\n",
       "            tree: \"https://unpkg.com/threshold-tree@1.0.3/umd/threshold-tree\"\n",
       "        }\n",
       "    });\n",
       "    \n",
       "    requirejs(['tree'], function(tree) {\n",
       "        \n",
       "        d3.csv(\"../data/complaint_types.csv\", function(complaints) {\n",
       "\n",
       "            // Build the threshold tree and convert it to a simple JSON format.\n",
       "            let hr = new tree.ThresholdTree(complaints).as_hierarchy();\n",
       "            \n",
       "            // Convert that to a hierarchy.\n",
       "            console.log(d3.stratify().id(d => d.name).parentId(d => d.parent)(hr));\n",
       "            let apple = d3.stratify().id(d => d.name).parentId(d => d.parent)(hr)\n",
       "            \n",
       "            // Convert the input to a D3 hierarchy (data type shared by treemap, tree, etc.)\n",
       "            // let root = d3.hierarchy(hr);\n",
       "            \n",
       "            console.log(apple);\n",
       "            \n",
       "        });\n",
       "        \n",
       "    });\n",
       "</script>\n",
       "</g>"
      ],
      "text/plain": [
       "<IPython.core.display.HTML object>"
      ]
     },
     "metadata": {},
     "output_type": "display_data"
    }
   ],
   "source": [
    "%%d3 4.4.4\n",
    "\n",
    "<svg width=800 height=400></svg>\n",
    "\n",
    "<script>\n",
    "    requirejs.config({\n",
    "        paths: {\n",
    "            tree: \"https://unpkg.com/threshold-tree@1.0.3/umd/threshold-tree\"\n",
    "        }\n",
    "    });\n",
    "    \n",
    "    requirejs(['tree'], function(tree) {\n",
    "        \n",
    "        d3.csv(\"../data/complaint_types.csv\", function(complaints) {\n",
    "\n",
    "            // Build the threshold tree and convert it to a simple JSON format.\n",
    "            let hr = new tree.ThresholdTree(complaints).as_hierarchy();\n",
    "            \n",
    "            // Convert that to a hierarchy.\n",
    "            console.log(d3.stratify().id(d => d.name).parentId(d => d.parent)(hr));\n",
    "            let apple = d3.stratify().id(d => d.name).parentId(d => d.parent)(hr)\n",
    "            \n",
    "            // Convert the input to a D3 hierarchy (data type shared by treemap, tree, etc.)\n",
    "            // let root = d3.hierarchy(hr);\n",
    "            \n",
    "            console.log(apple);\n",
    "            \n",
    "            // Create our treemap layout factory function.\n",
    "            let treemap = d3.treemap()\n",
    "                .tile(d3.treemapResquarify)\n",
    "                .size([800, 400])\n",
    "                .round(true)\n",
    "                .paddingInner(1);\n",
    "            \n",
    "            // Apply our treemap function to our data.\n",
    "            // treemap(root);\n",
    "            \n",
    "            // Select the SVG.\n",
    "            const svg = d3.select(\"svg\");\n",
    "            \n",
    "            // Lay out the cells.\n",
    "            let cell = svg.selectAll(\"g\")\n",
    "                .data(root.leaves())\n",
    "                .enter()\n",
    "                .append(\"g\")\n",
    "                .attr(\"transform\", function(d) { return \"translate(\" + d.x0 + \",\" + d.y0 + \")\"; });\n",
    "            \n",
    "            console.log(root);\n",
    "            // console.log(cell);\n",
    "\n",
    "            cell.append(\"rect\")\n",
    "                .attr(\"id\", function(d) { return d.data.id; })\n",
    "                .attr(\"width\", function(d) { return d.x1 - d.x0; })\n",
    "                .attr(\"height\", function(d) { return d.y1 - d.y0; })\n",
    "                .attr(\"fill\", function(d) { return \"transparent\"; })\n",
    "                .attr(\"stroke\", function(d) { return \"black\"; })\n",
    "                .attr(\"stroke-width\", \"1\");\n",
    "        });\n",
    "        \n",
    "    });\n",
    "</script>"
   ]
  },
  {
   "cell_type": "code",
   "execution_count": null,
   "metadata": {
    "collapsed": true
   },
   "outputs": [],
   "source": []
  }
 ],
 "metadata": {
  "kernelspec": {
   "display_name": "Python 3",
   "language": "python",
   "name": "python3"
  },
  "language_info": {
   "codemirror_mode": {
    "name": "ipython",
    "version": 3
   },
   "file_extension": ".py",
   "mimetype": "text/x-python",
   "name": "python",
   "nbconvert_exporter": "python",
   "pygments_lexer": "ipython3",
   "version": "3.5.2"
  }
 },
 "nbformat": 4,
 "nbformat_minor": 2
}
